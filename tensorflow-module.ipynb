{
 "cells": [
  {
   "cell_type": "code",
   "execution_count": 1,
   "metadata": {},
   "outputs": [],
   "source": [
    "import tensorflow as tf\n",
    "\n",
    "%load_ext tensorboard"
   ]
  },
  {
   "cell_type": "code",
   "execution_count": 5,
   "metadata": {},
   "outputs": [
    {
     "name": "stdout",
     "output_type": "stream",
     "text": [
      "5.: 30.0\n",
      "tf.constant(5.): 30.0\n",
      "tf.constant([5., 5.]): [30. 30.]\n"
     ]
    }
   ],
   "source": [
    "class SimpleModule(tf.Module):\n",
    "    def __init__(self, name=None):\n",
    "        super().__init__(name=name)\n",
    "        self.a_variable = tf.Variable(5.0, name='trainable')\n",
    "        self.b_variable = tf.Variable(5.0, trainable=False, name='untrainable')\n",
    "\n",
    "    def __call__(self, inputs):\n",
    "        return self.a_variable * inputs + self.b_variable\n",
    "\n",
    "simple_module = SimpleModule()\n",
    "print(f'5.: {simple_module(5.)}')\n",
    "print(f'tf.constant(5.): {simple_module(tf.constant(5.))}')\n",
    "print(f'tf.constant([5., 5.]): {simple_module(tf.constant([5., 5.]))}')"
   ]
  },
  {
   "cell_type": "code",
   "execution_count": 11,
   "metadata": {},
   "outputs": [
    {
     "data": {
      "text/plain": [
       "<tf.Tensor: shape=(1, 2), dtype=float32, numpy=array([[0.      , 4.229596]], dtype=float32)>"
      ]
     },
     "execution_count": 11,
     "metadata": {},
     "output_type": "execute_result"
    }
   ],
   "source": [
    "class Dense(tf.Module):\n",
    "    def __init__(self, in_features, out_features, name=None):\n",
    "        super().__init__(name=name)\n",
    "        self.w = tf.Variable(tf.random.normal([in_features, out_features]), name='w')\n",
    "        self.b = tf.Variable(tf.zeros([out_features]), name='b')\n",
    "\n",
    "    def __call__(self, inputs):\n",
    "        x = tf.matmul(inputs, self.w) + self.b\n",
    "        return tf.nn.relu(x)\n",
    "\n",
    "class SequentialModule(tf.Module):\n",
    "    def __init__(self, name=None):\n",
    "        super().__init__(name=name)\n",
    "        self.layer_1 = Dense(in_features=3, out_features=3)\n",
    "        self.layer_2 = Dense(in_features=3, out_features=2)\n",
    "\n",
    "    def __call__(self, inputs):\n",
    "        x = self.layer_1(inputs)\n",
    "        return self.layer_2(x)\n",
    "\n",
    "simple_model = SequentialModule()\n",
    "simple_model(tf.constant([[1., 2., 3.]]))"
   ]
  },
  {
   "cell_type": "code",
   "execution_count": 12,
   "metadata": {},
   "outputs": [
    {
     "name": "stdout",
     "output_type": "stream",
     "text": [
      "(<__main__.Dense object at 0x7f99b41195b0>, <__main__.Dense object at 0x7f99b4119790>)\n",
      "(<tf.Variable 'b:0' shape=(3,) dtype=float32, numpy=array([0., 0., 0.], dtype=float32)>, <tf.Variable 'w:0' shape=(3, 3) dtype=float32, numpy=\n",
      "array([[-0.7205934 , -1.3891398 , -0.22253664],\n",
      "       [-0.6661983 , -0.4855898 , -0.5871777 ],\n",
      "       [ 2.0263572 ,  1.1751839 , -0.06157124]], dtype=float32)>, <tf.Variable 'b:0' shape=(2,) dtype=float32, numpy=array([0., 0.], dtype=float32)>, <tf.Variable 'w:0' shape=(3, 2) dtype=float32, numpy=\n",
      "array([[-0.13722058,  0.64954734],\n",
      "       [ 0.14585947,  1.3873916 ],\n",
      "       [ 1.2594806 , -0.02584443]], dtype=float32)>)\n"
     ]
    }
   ],
   "source": [
    "print(simple_model.submodules)\n",
    "print(simple_model.variables)"
   ]
  },
  {
   "cell_type": "code",
   "execution_count": null,
   "metadata": {},
   "outputs": [],
   "source": []
  }
 ],
 "metadata": {
  "interpreter": {
   "hash": "949777d72b0d2535278d3dc13498b2535136f6dfe0678499012e853ee9abcab1"
  },
  "kernelspec": {
   "display_name": "Python 3.8.12 64-bit",
   "language": "python",
   "name": "python3"
  },
  "language_info": {
   "codemirror_mode": {
    "name": "ipython",
    "version": 3
   },
   "file_extension": ".py",
   "mimetype": "text/x-python",
   "name": "python",
   "nbconvert_exporter": "python",
   "pygments_lexer": "ipython3",
   "version": "3.8.10"
  },
  "orig_nbformat": 4
 },
 "nbformat": 4,
 "nbformat_minor": 2
}
