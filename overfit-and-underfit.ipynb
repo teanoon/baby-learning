{
 "cells": [
  {
   "cell_type": "code",
   "execution_count": 1,
   "metadata": {},
   "outputs": [
    {
     "name": "stdout",
     "output_type": "stream",
     "text": [
      "\u001b[33mWARNING: You are using pip version 20.2.4; however, version 21.3.1 is available.\n",
      "You should consider upgrading via the '/usr/local/bin/python -m pip install --upgrade pip' command.\u001b[0m\n",
      "Note: you may need to restart the kernel to use updated packages.\n"
     ]
    }
   ],
   "source": [
    "%pip install -q git+https://github.com/tensorflow/docs"
   ]
  },
  {
   "cell_type": "code",
   "execution_count": 2,
   "metadata": {},
   "outputs": [],
   "source": [
    "from tensorflow.keras.utils import get_file\n",
    "import tensorflow as tf\n",
    "from tensorflow.python.data.experimental import CsvDataset\n",
    "\n",
    "data_package = get_file('HIGGS.csv.gz', 'http://mlphysics.ics.uci.edu/data/higgs/HIGGS.csv.gz')\n",
    "\n",
    "FEATURES = 28\n",
    "dataset = CsvDataset(data_package, [float(), ] * (FEATURES + 1), compression_type='GZIP')"
   ]
  },
  {
   "cell_type": "code",
   "execution_count": 3,
   "metadata": {},
   "outputs": [],
   "source": [
    "def unpack_row(*row):\n",
    "    label = row[0]\n",
    "    features = tf.stack(row[1:], 1)\n",
    "    return features, label\n",
    "processed_dataset = dataset.batch(10_000).map(unpack_row).unbatch()\n",
    "\n",
    "BATCH_SIZE = 500\n",
    "TRAIN_SIZE = 10_000\n",
    "VALIDATION_SIZE = 1_000\n",
    "BUFFER_SIZE = 10_000\n",
    "STEPS_PER_EPOCH = TRAIN_SIZE // BATCH_SIZE\n",
    "\n",
    "validation_dataset = processed_dataset.take(VALIDATION_SIZE).cache()\n",
    "validation_dataset = validation_dataset.batch(BATCH_SIZE)\n",
    "\n",
    "train_dataset = processed_dataset.skip(VALIDATION_SIZE).take(TRAIN_SIZE).cache()\n",
    "train_dataset = train_dataset.shuffle(BUFFER_SIZE).repeat().batch(BATCH_SIZE)"
   ]
  },
  {
   "cell_type": "code",
   "execution_count": 4,
   "metadata": {},
   "outputs": [],
   "source": [
    "from tensorflow.keras.callbacks import EarlyStopping, TensorBoard\n",
    "from tensorflow.keras.optimizers import Adam\n",
    "from tensorflow.keras.optimizers.schedules import InverseTimeDecay\n",
    "from tensorflow_docs.modeling import EpochDots\n",
    "from tensorflow.keras.models import Sequential\n",
    "from tensorflow.keras.losses import BinaryCrossentropy\n",
    "from tensorflow.keras.metrics import BinaryCrossentropy as BinaryCrossentropyMetrics\n",
    "import pathlib\n",
    "import shutil\n",
    "import tempfile\n",
    "\n",
    "logdir = pathlib.Path(tempfile.mkdtemp())/\"tensorboard_logs\"\n",
    "shutil.rmtree(logdir, ignore_errors=True)\n",
    "%load_ext tensorboard\n",
    "\n",
    "def get_optimizer():\n",
    "    learning_rate_schedule = InverseTimeDecay(0.001, decay_steps=STEPS_PER_EPOCH * 1000, decay_rate=1, staircase=False)\n",
    "    return Adam(learning_rate_schedule)\n",
    "\n",
    "def get_callbacks(name):\n",
    "    return [\n",
    "        EpochDots(),\n",
    "        EarlyStopping(monitor='val_binary_crossentropy', patience=200),\n",
    "        TensorBoard(logdir / name)\n",
    "    ]\n",
    "\n",
    "def compile_and_fit(model: Sequential, name, optimizer=None, max_epochs=1_000):\n",
    "    optimizer = optimizer or get_optimizer()\n",
    "    model.compile(\n",
    "        optimizer=optimizer, \n",
    "        loss=BinaryCrossentropy(from_logits=True),\n",
    "        metrics=[\n",
    "            BinaryCrossentropyMetrics(from_logits=True),\n",
    "            'accuracy'\n",
    "        ])\n",
    "    model.summary()\n",
    "    return model.fit(\n",
    "        train_dataset, steps_per_epoch=STEPS_PER_EPOCH, epochs=max_epochs, \n",
    "        validation_data=validation_dataset, callbacks=get_callbacks(name), verbose=0)\n",
    "\n",
    "size_histories = {}\n",
    "regularizer_histories = {}"
   ]
  },
  {
   "cell_type": "code",
   "execution_count": 5,
   "metadata": {},
   "outputs": [
    {
     "name": "stdout",
     "output_type": "stream",
     "text": [
      "Model: \"sequential\"\n",
      "_________________________________________________________________\n",
      " Layer (type)                Output Shape              Param #   \n",
      "=================================================================\n",
      " dense (Dense)               (None, 16)                464       \n",
      "                                                                 \n",
      " dense_1 (Dense)             (None, 1)                 17        \n",
      "                                                                 \n",
      "=================================================================\n",
      "Total params: 481\n",
      "Trainable params: 481\n",
      "Non-trainable params: 0\n",
      "_________________________________________________________________\n",
      "\n",
      "Epoch: 0, accuracy:0.4786,  binary_crossentropy:1.1478,  loss:1.1478,  val_accuracy:0.4530,  val_binary_crossentropy:0.9724,  val_loss:0.9724,  \n",
      "....................................................................................................\n",
      "Epoch: 100, accuracy:0.5850,  binary_crossentropy:0.6298,  loss:0.6298,  val_accuracy:0.5910,  val_binary_crossentropy:0.6301,  val_loss:0.6301,  \n",
      "....................................................................................................\n",
      "Epoch: 200, accuracy:0.6114,  binary_crossentropy:0.6196,  loss:0.6196,  val_accuracy:0.5930,  val_binary_crossentropy:0.6207,  val_loss:0.6207,  \n",
      "....................................................................................................\n",
      "Epoch: 300, accuracy:0.6207,  binary_crossentropy:0.6107,  loss:0.6107,  val_accuracy:0.5990,  val_binary_crossentropy:0.6149,  val_loss:0.6149,  \n",
      "....................................................................................................\n",
      "Epoch: 400, accuracy:0.6473,  binary_crossentropy:0.5993,  loss:0.5993,  val_accuracy:0.6190,  val_binary_crossentropy:0.6003,  val_loss:0.6003,  \n",
      "....................................................................................................\n",
      "Epoch: 500, accuracy:0.6569,  binary_crossentropy:0.5925,  loss:0.5925,  val_accuracy:0.6580,  val_binary_crossentropy:0.5917,  val_loss:0.5917,  \n",
      "....................................................................................................\n",
      "Epoch: 600, accuracy:0.6646,  binary_crossentropy:0.5883,  loss:0.5883,  val_accuracy:0.6590,  val_binary_crossentropy:0.5888,  val_loss:0.5888,  \n",
      "....................................................................................................\n",
      "Epoch: 700, accuracy:0.6645,  binary_crossentropy:0.5856,  loss:0.5856,  val_accuracy:0.6610,  val_binary_crossentropy:0.5874,  val_loss:0.5874,  \n",
      "....................................................................................................\n",
      "Epoch: 800, accuracy:0.6684,  binary_crossentropy:0.5834,  loss:0.5834,  val_accuracy:0.6580,  val_binary_crossentropy:0.5874,  val_loss:0.5874,  \n",
      "....................................................................................................\n",
      "Epoch: 900, accuracy:0.6699,  binary_crossentropy:0.5814,  loss:0.5814,  val_accuracy:0.6560,  val_binary_crossentropy:0.5880,  val_loss:0.5880,  \n",
      "...................................................................................................."
     ]
    }
   ],
   "source": [
    "from tensorflow.keras.layers import Dense\n",
    "\n",
    "shutil.rmtree(logdir / 'sizes/tiny', ignore_errors=True)\n",
    "tiny_model = Sequential([\n",
    "    Dense(16, activation='elu', input_shape=(FEATURES,)),\n",
    "    Dense(1)\n",
    "])\n",
    "\n",
    "size_histories['tiny'] = compile_and_fit(tiny_model, 'sizes/tiny')"
   ]
  },
  {
   "cell_type": "code",
   "execution_count": 6,
   "metadata": {},
   "outputs": [
    {
     "name": "stdout",
     "output_type": "stream",
     "text": [
      "Model: \"sequential_1\"\n",
      "_________________________________________________________________\n",
      " Layer (type)                Output Shape              Param #   \n",
      "=================================================================\n",
      " dense_2 (Dense)             (None, 16)                464       \n",
      "                                                                 \n",
      " dense_3 (Dense)             (None, 16)                272       \n",
      "                                                                 \n",
      " dense_4 (Dense)             (None, 1)                 17        \n",
      "                                                                 \n",
      "=================================================================\n",
      "Total params: 753\n",
      "Trainable params: 753\n",
      "Non-trainable params: 0\n",
      "_________________________________________________________________\n",
      "\n",
      "Epoch: 0, accuracy:0.5081,  binary_crossentropy:0.8286,  loss:0.8286,  val_accuracy:0.4900,  val_binary_crossentropy:0.7410,  val_loss:0.7410,  \n",
      "....................................................................................................\n",
      "Epoch: 100, accuracy:0.6169,  binary_crossentropy:0.6182,  loss:0.6182,  val_accuracy:0.6120,  val_binary_crossentropy:0.6185,  val_loss:0.6185,  \n",
      "....................................................................................................\n",
      "Epoch: 200, accuracy:0.6528,  binary_crossentropy:0.5972,  loss:0.5972,  val_accuracy:0.6570,  val_binary_crossentropy:0.5972,  val_loss:0.5972,  \n",
      "....................................................................................................\n",
      "Epoch: 300, accuracy:0.6695,  binary_crossentropy:0.5865,  loss:0.5865,  val_accuracy:0.6620,  val_binary_crossentropy:0.5883,  val_loss:0.5883,  \n",
      "....................................................................................................\n",
      "Epoch: 400, accuracy:0.6764,  binary_crossentropy:0.5791,  loss:0.5791,  val_accuracy:0.6640,  val_binary_crossentropy:0.5851,  val_loss:0.5851,  \n",
      "....................................................................................................\n",
      "Epoch: 500, accuracy:0.6777,  binary_crossentropy:0.5732,  loss:0.5732,  val_accuracy:0.6650,  val_binary_crossentropy:0.5822,  val_loss:0.5822,  \n",
      "....................................................................................................\n",
      "Epoch: 600, accuracy:0.6836,  binary_crossentropy:0.5672,  loss:0.5672,  val_accuracy:0.6760,  val_binary_crossentropy:0.5792,  val_loss:0.5792,  \n",
      "....................................................................................................\n",
      "Epoch: 700, accuracy:0.6885,  binary_crossentropy:0.5633,  loss:0.5633,  val_accuracy:0.6680,  val_binary_crossentropy:0.5815,  val_loss:0.5815,  \n",
      ".........................................................................."
     ]
    }
   ],
   "source": [
    "shutil.rmtree(logdir / 'sizes/small', ignore_errors=True)\n",
    "\n",
    "small_model = Sequential([\n",
    "    Dense(16, activation='elu', input_shape=(FEATURES,)),\n",
    "    Dense(16, activation='elu'),\n",
    "    Dense(1)\n",
    "])\n",
    "size_histories['small'] = compile_and_fit(small_model, 'sizes/small')"
   ]
  },
  {
   "cell_type": "code",
   "execution_count": 7,
   "metadata": {},
   "outputs": [
    {
     "name": "stdout",
     "output_type": "stream",
     "text": [
      "Model: \"sequential_2\"\n",
      "_________________________________________________________________\n",
      " Layer (type)                Output Shape              Param #   \n",
      "=================================================================\n",
      " dense_5 (Dense)             (None, 64)                1856      \n",
      "                                                                 \n",
      " dense_6 (Dense)             (None, 64)                4160      \n",
      "                                                                 \n",
      " dense_7 (Dense)             (None, 64)                4160      \n",
      "                                                                 \n",
      " dense_8 (Dense)             (None, 1)                 65        \n",
      "                                                                 \n",
      "=================================================================\n",
      "Total params: 10,241\n",
      "Trainable params: 10,241\n",
      "Non-trainable params: 0\n",
      "_________________________________________________________________\n",
      "\n",
      "Epoch: 0, accuracy:0.5020,  binary_crossentropy:0.6978,  loss:0.6978,  val_accuracy:0.4720,  val_binary_crossentropy:0.6766,  val_loss:0.6766,  \n",
      "....................................................................................................\n",
      "Epoch: 100, accuracy:0.7160,  binary_crossentropy:0.5297,  loss:0.5297,  val_accuracy:0.6570,  val_binary_crossentropy:0.6059,  val_loss:0.6059,  \n",
      "....................................................................................................\n",
      "Epoch: 200, accuracy:0.7829,  binary_crossentropy:0.4329,  loss:0.4329,  val_accuracy:0.6410,  val_binary_crossentropy:0.7046,  val_loss:0.7046,  \n",
      "............................................................................................."
     ]
    }
   ],
   "source": [
    "shutil.rmtree(logdir / 'sizes/medium', ignore_errors=True)\n",
    "\n",
    "medium_model = Sequential([\n",
    "    Dense(64, activation='elu', input_shape=(FEATURES,)),\n",
    "    Dense(64, activation='elu'),\n",
    "    Dense(64, activation='elu'),\n",
    "    Dense(1)\n",
    "])\n",
    "size_histories['medium'] = compile_and_fit(medium_model, 'sizes/medium')"
   ]
  },
  {
   "cell_type": "code",
   "execution_count": 8,
   "metadata": {},
   "outputs": [
    {
     "name": "stdout",
     "output_type": "stream",
     "text": [
      "Model: \"sequential_3\"\n",
      "_________________________________________________________________\n",
      " Layer (type)                Output Shape              Param #   \n",
      "=================================================================\n",
      " dense_9 (Dense)             (None, 512)               14848     \n",
      "                                                                 \n",
      " dense_10 (Dense)            (None, 512)               262656    \n",
      "                                                                 \n",
      " dense_11 (Dense)            (None, 512)               262656    \n",
      "                                                                 \n",
      " dense_12 (Dense)            (None, 512)               262656    \n",
      "                                                                 \n",
      " dense_13 (Dense)            (None, 1)                 513       \n",
      "                                                                 \n",
      "=================================================================\n",
      "Total params: 803,329\n",
      "Trainable params: 803,329\n",
      "Non-trainable params: 0\n",
      "_________________________________________________________________\n",
      "\n",
      "Epoch: 0, accuracy:0.4971,  binary_crossentropy:0.8418,  loss:0.8418,  val_accuracy:0.4620,  val_binary_crossentropy:0.7023,  val_loss:0.7023,  \n",
      "....................................................................................................\n",
      "Epoch: 100, accuracy:1.0000,  binary_crossentropy:0.0021,  loss:0.0021,  val_accuracy:0.6500,  val_binary_crossentropy:1.7261,  val_loss:1.7261,  \n",
      "....................................................................................................\n",
      "Epoch: 200, accuracy:1.0000,  binary_crossentropy:0.0001,  loss:0.0001,  val_accuracy:0.6460,  val_binary_crossentropy:2.3588,  val_loss:2.3588,  \n",
      "......................."
     ]
    }
   ],
   "source": [
    "shutil.rmtree(logdir / 'sizes/large', ignore_errors=True)\n",
    "\n",
    "large_model = Sequential([\n",
    "    Dense(512, activation='elu', input_shape=(FEATURES,)),\n",
    "    Dense(512, activation='elu'),\n",
    "    Dense(512, activation='elu'),\n",
    "    Dense(512, activation='elu'),\n",
    "    Dense(1)\n",
    "])\n",
    "size_histories['large'] = compile_and_fit(large_model, 'sizes/large')"
   ]
  },
  {
   "cell_type": "code",
   "execution_count": 10,
   "metadata": {},
   "outputs": [
    {
     "data": {
      "text/plain": [
       "Reusing TensorBoard on port 6006 (pid 98151), started 0:00:17 ago. (Use '!kill 98151' to kill it.)"
      ]
     },
     "metadata": {},
     "output_type": "display_data"
    },
    {
     "data": {
      "text/html": [
       "\n",
       "      <iframe id=\"tensorboard-frame-88f0b00aa42600e9\" width=\"100%\" height=\"800\" frameborder=\"0\">\n",
       "      </iframe>\n",
       "      <script>\n",
       "        (function() {\n",
       "          const frame = document.getElementById(\"tensorboard-frame-88f0b00aa42600e9\");\n",
       "          const url = new URL(\"http://localhost\");\n",
       "          const port = 6006;\n",
       "          if (port) {\n",
       "            url.port = port;\n",
       "          }\n",
       "          frame.src = url;\n",
       "        })();\n",
       "      </script>\n",
       "    "
      ],
      "text/plain": [
       "<IPython.core.display.HTML object>"
      ]
     },
     "metadata": {},
     "output_type": "display_data"
    }
   ],
   "source": [
    "%reload_ext tensorboard\n",
    "%tensorboard --logdir {logdir}/sizes"
   ]
  },
  {
   "cell_type": "code",
   "execution_count": 11,
   "metadata": {},
   "outputs": [],
   "source": [
    "shutil.rmtree(logdir / 'regularizers', ignore_errors=True)\n",
    "shutil.copytree(logdir / 'sizes/tiny', logdir / 'regularizers/tiny')\n",
    "regularizer_histories['tiny'] = size_histories['tiny']"
   ]
  },
  {
   "cell_type": "code",
   "execution_count": 12,
   "metadata": {},
   "outputs": [
    {
     "name": "stdout",
     "output_type": "stream",
     "text": [
      "Model: \"sequential_4\"\n",
      "_________________________________________________________________\n",
      " Layer (type)                Output Shape              Param #   \n",
      "=================================================================\n",
      " dense_14 (Dense)            (None, 512)               14848     \n",
      "                                                                 \n",
      " dense_15 (Dense)            (None, 512)               262656    \n",
      "                                                                 \n",
      " dense_16 (Dense)            (None, 512)               262656    \n",
      "                                                                 \n",
      " dense_17 (Dense)            (None, 512)               262656    \n",
      "                                                                 \n",
      " dense_18 (Dense)            (None, 1)                 513       \n",
      "                                                                 \n",
      "=================================================================\n",
      "Total params: 803,329\n",
      "Trainable params: 803,329\n",
      "Non-trainable params: 0\n",
      "_________________________________________________________________\n",
      "\n",
      "Epoch: 0, accuracy:0.5051,  binary_crossentropy:0.8192,  loss:2.3304,  val_accuracy:0.4650,  val_binary_crossentropy:0.6838,  val_loss:2.1196,  \n",
      "....................................................................................................\n",
      "Epoch: 100, accuracy:0.6556,  binary_crossentropy:0.5922,  loss:0.6178,  val_accuracy:0.6710,  val_binary_crossentropy:0.5773,  val_loss:0.6029,  \n",
      "....................................................................................................\n",
      "Epoch: 200, accuracy:0.6766,  binary_crossentropy:0.5771,  loss:0.6018,  val_accuracy:0.6770,  val_binary_crossentropy:0.5785,  val_loss:0.6033,  \n",
      "....................................................................................................\n",
      "Epoch: 300, accuracy:0.6859,  binary_crossentropy:0.5683,  loss:0.5936,  val_accuracy:0.6930,  val_binary_crossentropy:0.5797,  val_loss:0.6050,  \n",
      "....................................................................................................\n",
      "Epoch: 400, accuracy:0.6988,  binary_crossentropy:0.5598,  loss:0.5876,  val_accuracy:0.6860,  val_binary_crossentropy:0.5769,  val_loss:0.6049,  \n",
      "....................................................................................................\n",
      "Epoch: 500, accuracy:0.7022,  binary_crossentropy:0.5530,  loss:0.5808,  val_accuracy:0.6680,  val_binary_crossentropy:0.5786,  val_loss:0.6065,  \n",
      "....................................................................................................\n",
      "Epoch: 600, accuracy:0.7116,  binary_crossentropy:0.5447,  loss:0.5729,  val_accuracy:0.6880,  val_binary_crossentropy:0.5772,  val_loss:0.6055,  \n",
      ".............................................................................."
     ]
    }
   ],
   "source": [
    "from tensorflow.keras import regularizers\n",
    "\n",
    "shutil.rmtree(logdir / 'regularizers/l2', ignore_errors=True)\n",
    "\n",
    "l2_model = Sequential([\n",
    "    Dense(512, activation='elu', kernel_regularizer=regularizers.l2(0.001), input_shape=(FEATURES,)),\n",
    "    Dense(512, activation='elu', kernel_regularizer=regularizers.l2(0.001)),\n",
    "    Dense(512, activation='elu', kernel_regularizer=regularizers.l2(0.001)),\n",
    "    Dense(512, activation='elu', kernel_regularizer=regularizers.l2(0.001)),\n",
    "    Dense(1)\n",
    "])\n",
    "\n",
    "regularizer_histories['l2'] = compile_and_fit(l2_model, 'regularizers/l2')"
   ]
  },
  {
   "cell_type": "code",
   "execution_count": 13,
   "metadata": {},
   "outputs": [
    {
     "name": "stdout",
     "output_type": "stream",
     "text": [
      "Model: \"sequential_5\"\n",
      "_________________________________________________________________\n",
      " Layer (type)                Output Shape              Param #   \n",
      "=================================================================\n",
      " dense_19 (Dense)            (None, 512)               14848     \n",
      "                                                                 \n",
      " dropout (Dropout)           (None, 512)               0         \n",
      "                                                                 \n",
      " dense_20 (Dense)            (None, 512)               262656    \n",
      "                                                                 \n",
      " dropout_1 (Dropout)         (None, 512)               0         \n",
      "                                                                 \n",
      " dense_21 (Dense)            (None, 512)               262656    \n",
      "                                                                 \n",
      " dropout_2 (Dropout)         (None, 512)               0         \n",
      "                                                                 \n",
      " dense_22 (Dense)            (None, 512)               262656    \n",
      "                                                                 \n",
      " dropout_3 (Dropout)         (None, 512)               0         \n",
      "                                                                 \n",
      " dense_23 (Dense)            (None, 1)                 513       \n",
      "                                                                 \n",
      "=================================================================\n",
      "Total params: 803,329\n",
      "Trainable params: 803,329\n",
      "Non-trainable params: 0\n",
      "_________________________________________________________________\n",
      "\n",
      "Epoch: 0, accuracy:0.5061,  binary_crossentropy:0.7989,  loss:0.7989,  val_accuracy:0.5550,  val_binary_crossentropy:0.6901,  val_loss:0.6901,  \n",
      "....................................................................................................\n",
      "Epoch: 100, accuracy:0.6548,  binary_crossentropy:0.5964,  loss:0.5964,  val_accuracy:0.6850,  val_binary_crossentropy:0.5750,  val_loss:0.5750,  \n",
      "....................................................................................................\n",
      "Epoch: 200, accuracy:0.6885,  binary_crossentropy:0.5566,  loss:0.5566,  val_accuracy:0.6910,  val_binary_crossentropy:0.5986,  val_loss:0.5986,  \n",
      "....................................................................................................\n",
      "Epoch: 300, accuracy:0.7236,  binary_crossentropy:0.5076,  loss:0.5076,  val_accuracy:0.6910,  val_binary_crossentropy:0.5953,  val_loss:0.5953,  \n",
      "............................."
     ]
    }
   ],
   "source": [
    "from tensorflow.keras.layers import Dropout\n",
    "\n",
    "shutil.rmtree(logdir / 'regularizers/dropout', ignore_errors=True)\n",
    "\n",
    "l2_model = Sequential([\n",
    "    Dense(512, activation='elu', input_shape=(FEATURES,)),\n",
    "    Dropout(0.5),\n",
    "    Dense(512, activation='elu'), \n",
    "    Dropout(0.5),\n",
    "    Dense(512, activation='elu'),\n",
    "    Dropout(0.5),\n",
    "    Dense(512, activation='elu'),\n",
    "    Dropout(0.5),\n",
    "    Dense(1)\n",
    "])\n",
    "\n",
    "regularizer_histories['dropout'] = compile_and_fit(l2_model, 'regularizers/dropout')"
   ]
  },
  {
   "cell_type": "code",
   "execution_count": 20,
   "metadata": {},
   "outputs": [
    {
     "name": "stdout",
     "output_type": "stream",
     "text": [
      "Model: \"sequential_8\"\n",
      "_________________________________________________________________\n",
      " Layer (type)                Output Shape              Param #   \n",
      "=================================================================\n",
      " dense_34 (Dense)            (None, 512)               14848     \n",
      "                                                                 \n",
      " dropout_12 (Dropout)        (None, 512)               0         \n",
      "                                                                 \n",
      " dense_35 (Dense)            (None, 512)               262656    \n",
      "                                                                 \n",
      " dropout_13 (Dropout)        (None, 512)               0         \n",
      "                                                                 \n",
      " dense_36 (Dense)            (None, 512)               262656    \n",
      "                                                                 \n",
      " dropout_14 (Dropout)        (None, 512)               0         \n",
      "                                                                 \n",
      " dense_37 (Dense)            (None, 512)               262656    \n",
      "                                                                 \n",
      " dropout_15 (Dropout)        (None, 512)               0         \n",
      "                                                                 \n",
      " dense_38 (Dense)            (None, 1)                 513       \n",
      "                                                                 \n",
      "=================================================================\n",
      "Total params: 803,329\n",
      "Trainable params: 803,329\n",
      "Non-trainable params: 0\n",
      "_________________________________________________________________\n",
      "\n",
      "Epoch: 0, accuracy:0.5025,  binary_crossentropy:0.7948,  loss:0.9531,  val_accuracy:0.4990,  val_binary_crossentropy:0.6796,  val_loss:0.8372,  \n",
      "....................................................................................................\n",
      "Epoch: 100, accuracy:0.6515,  binary_crossentropy:0.6025,  loss:0.6322,  val_accuracy:0.6540,  val_binary_crossentropy:0.5825,  val_loss:0.6121,  \n",
      "....................................................................................................\n",
      "Epoch: 200, accuracy:0.6672,  binary_crossentropy:0.5899,  loss:0.6157,  val_accuracy:0.6740,  val_binary_crossentropy:0.5770,  val_loss:0.6028,  \n",
      "....................................................................................................\n",
      "Epoch: 300, accuracy:0.6718,  binary_crossentropy:0.5788,  loss:0.6074,  val_accuracy:0.6900,  val_binary_crossentropy:0.5632,  val_loss:0.5918,  \n",
      "....................................................................................................\n",
      "Epoch: 400, accuracy:0.6748,  binary_crossentropy:0.5788,  loss:0.6091,  val_accuracy:0.6730,  val_binary_crossentropy:0.5576,  val_loss:0.5880,  \n",
      "....................................................................................................\n",
      "Epoch: 500, accuracy:0.6806,  binary_crossentropy:0.5704,  loss:0.6035,  val_accuracy:0.6860,  val_binary_crossentropy:0.5544,  val_loss:0.5876,  \n",
      "....................................................................................................\n",
      "Epoch: 600, accuracy:0.6824,  binary_crossentropy:0.5636,  loss:0.5991,  val_accuracy:0.7010,  val_binary_crossentropy:0.5452,  val_loss:0.5807,  \n",
      "....................................................................................................\n",
      "Epoch: 700, accuracy:0.6869,  binary_crossentropy:0.5635,  loss:0.6008,  val_accuracy:0.6900,  val_binary_crossentropy:0.5489,  val_loss:0.5862,  \n",
      "....................................................................................................\n",
      "Epoch: 800, accuracy:0.6997,  binary_crossentropy:0.5540,  loss:0.5932,  val_accuracy:0.6870,  val_binary_crossentropy:0.5482,  val_loss:0.5874,  \n",
      "....................................................................................................\n",
      "Epoch: 900, accuracy:0.7026,  binary_crossentropy:0.5493,  loss:0.5896,  val_accuracy:0.6870,  val_binary_crossentropy:0.5509,  val_loss:0.5912,  \n",
      "..........................................................."
     ]
    }
   ],
   "source": [
    "shutil.rmtree(logdir / 'regularizers/combined', ignore_errors=True)\n",
    "\n",
    "combined_model = Sequential([\n",
    "    Dense(512, activation='elu', kernel_regularizer=regularizers.l2(0.0001), input_shape=(FEATURES,)),\n",
    "    Dropout(0.5),\n",
    "    Dense(512, activation='elu', kernel_regularizer=regularizers.l2(0.0001)), \n",
    "    Dropout(0.5),\n",
    "    Dense(512, activation='elu', kernel_regularizer=regularizers.l2(0.0001)),\n",
    "    Dropout(0.5),\n",
    "    Dense(512, activation='elu', kernel_regularizer=regularizers.l2(0.0001)),\n",
    "    Dropout(0.5),\n",
    "    Dense(1)\n",
    "])\n",
    "\n",
    "regularizer_histories['combined'] = compile_and_fit(combined_model, 'regularizers/combined')"
   ]
  },
  {
   "cell_type": "code",
   "execution_count": 21,
   "metadata": {},
   "outputs": [
    {
     "data": {
      "text/plain": [
       "Reusing TensorBoard on port 6007 (pid 182630), started 7:42:20 ago. (Use '!kill 182630' to kill it.)"
      ]
     },
     "metadata": {},
     "output_type": "display_data"
    },
    {
     "data": {
      "text/html": [
       "\n",
       "      <iframe id=\"tensorboard-frame-2a03e095a6544e1f\" width=\"100%\" height=\"800\" frameborder=\"0\">\n",
       "      </iframe>\n",
       "      <script>\n",
       "        (function() {\n",
       "          const frame = document.getElementById(\"tensorboard-frame-2a03e095a6544e1f\");\n",
       "          const url = new URL(\"http://localhost\");\n",
       "          const port = 6007;\n",
       "          if (port) {\n",
       "            url.port = port;\n",
       "          }\n",
       "          frame.src = url;\n",
       "        })();\n",
       "      </script>\n",
       "    "
      ],
      "text/plain": [
       "<IPython.core.display.HTML object>"
      ]
     },
     "metadata": {},
     "output_type": "display_data"
    }
   ],
   "source": [
    "%tensorboard --logdir {logdir}/regularizers"
   ]
  }
 ],
 "metadata": {
  "interpreter": {
   "hash": "949777d72b0d2535278d3dc13498b2535136f6dfe0678499012e853ee9abcab1"
  },
  "kernelspec": {
   "display_name": "Python 3.8.10 64-bit",
   "language": "python",
   "name": "python3"
  },
  "language_info": {
   "codemirror_mode": {
    "name": "ipython",
    "version": 3
   },
   "file_extension": ".py",
   "mimetype": "text/x-python",
   "name": "python",
   "nbconvert_exporter": "python",
   "pygments_lexer": "ipython3",
   "version": "3.8.10"
  },
  "orig_nbformat": 4
 },
 "nbformat": 4,
 "nbformat_minor": 2
}
