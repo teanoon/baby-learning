{
 "cells": [
  {
   "cell_type": "code",
   "execution_count": 2,
   "metadata": {},
   "outputs": [],
   "source": [
    "import tensorflow_datasets as tfds\n",
    "\n",
    "train_data, validation_data, test_data = tfds.load('imdb_reviews', split=('train[:60%]', 'train[60%:]', 'test'), as_supervised=True)"
   ]
  },
  {
   "cell_type": "code",
   "execution_count": 6,
   "metadata": {},
   "outputs": [],
   "source": [
    "import tensorflow as tf\n",
    "from tensorflow_hub import KerasLayer\n",
    "\n",
    "embedding = \"https://tfhub.dev/google/nnlm-en-dim50/2\"\n",
    "hub_layer = KerasLayer(embedding, trainable=True, input_shape=[], dtype=tf.string)"
   ]
  },
  {
   "cell_type": "code",
   "execution_count": 11,
   "metadata": {},
   "outputs": [
    {
     "name": "stdout",
     "output_type": "stream",
     "text": [
      "Model: \"sequential_2\"\n",
      "_________________________________________________________________\n",
      " Layer (type)                Output Shape              Param #   \n",
      "=================================================================\n",
      " keras_layer_1 (KerasLayer)  (None, 50)                48190600  \n",
      "                                                                 \n",
      " dense_4 (Dense)             (None, 16)                816       \n",
      "                                                                 \n",
      " dense_5 (Dense)             (None, 1)                 17        \n",
      "                                                                 \n",
      "=================================================================\n",
      "Total params: 48,191,433\n",
      "Trainable params: 48,191,433\n",
      "Non-trainable params: 0\n",
      "_________________________________________________________________\n"
     ]
    }
   ],
   "source": [
    "from tensorflow.keras import Sequential\n",
    "from tensorflow.keras.layers import Dense\n",
    "\n",
    "model = Sequential([\n",
    "    hub_layer,\n",
    "    Dense(16, activation='relu'),\n",
    "    Dense(1)\n",
    "])\n",
    "model.summary()"
   ]
  },
  {
   "cell_type": "code",
   "execution_count": 12,
   "metadata": {},
   "outputs": [],
   "source": [
    "from tensorflow.keras.losses import BinaryCrossentropy\n",
    "\n",
    "model.compile(optimizer='adam', loss=BinaryCrossentropy(from_logits=True), metrics=['accuracy'])"
   ]
  },
  {
   "cell_type": "code",
   "execution_count": 13,
   "metadata": {},
   "outputs": [
    {
     "name": "stdout",
     "output_type": "stream",
     "text": [
      "Epoch 1/10\n",
      "30/30 [==============================] - 8s 244ms/step - loss: 0.6799 - accuracy: 0.5175 - val_loss: 0.6338 - val_accuracy: 0.5275\n",
      "Epoch 2/10\n",
      "30/30 [==============================] - 7s 228ms/step - loss: 0.5854 - accuracy: 0.5996 - val_loss: 0.5406 - val_accuracy: 0.6577\n",
      "Epoch 3/10\n",
      "30/30 [==============================] - 7s 235ms/step - loss: 0.4544 - accuracy: 0.7671 - val_loss: 0.4363 - val_accuracy: 0.7916\n",
      "Epoch 4/10\n",
      "30/30 [==============================] - 7s 239ms/step - loss: 0.3320 - accuracy: 0.8709 - val_loss: 0.3655 - val_accuracy: 0.8427\n",
      "Epoch 5/10\n",
      "30/30 [==============================] - 7s 234ms/step - loss: 0.2409 - accuracy: 0.9121 - val_loss: 0.3294 - val_accuracy: 0.8596\n",
      "Epoch 6/10\n",
      "30/30 [==============================] - 7s 232ms/step - loss: 0.1745 - accuracy: 0.9428 - val_loss: 0.3119 - val_accuracy: 0.8630\n",
      "Epoch 7/10\n",
      "30/30 [==============================] - 8s 252ms/step - loss: 0.1261 - accuracy: 0.9635 - val_loss: 0.3088 - val_accuracy: 0.8666\n",
      "Epoch 8/10\n",
      "30/30 [==============================] - 7s 242ms/step - loss: 0.0910 - accuracy: 0.9759 - val_loss: 0.3134 - val_accuracy: 0.8693\n",
      "Epoch 9/10\n",
      "30/30 [==============================] - 7s 239ms/step - loss: 0.0648 - accuracy: 0.9858 - val_loss: 0.3226 - val_accuracy: 0.8707\n",
      "Epoch 10/10\n",
      "30/30 [==============================] - 7s 233ms/step - loss: 0.0465 - accuracy: 0.9922 - val_loss: 0.3351 - val_accuracy: 0.8703\n"
     ]
    }
   ],
   "source": [
    "history = model.fit(train_data.shuffle(10000).batch(512), epochs=10, validation_data=validation_data.batch(512), verbose=1)"
   ]
  },
  {
   "cell_type": "code",
   "execution_count": 14,
   "metadata": {},
   "outputs": [
    {
     "name": "stdout",
     "output_type": "stream",
     "text": [
      "49/49 - 2s - loss: 0.3566 - accuracy: 0.8555 - 2s/epoch - 36ms/step\n",
      "loss: 0.356577605009079 accuracy: 0.8555200099945068\n"
     ]
    }
   ],
   "source": [
    "loss, accuracy = model.evaluate(test_data.batch(512), verbose=2)\n",
    "print(f'loss: {loss} accuracy: {accuracy}')"
   ]
  }
 ],
 "metadata": {
  "interpreter": {
   "hash": "949777d72b0d2535278d3dc13498b2535136f6dfe0678499012e853ee9abcab1"
  },
  "kernelspec": {
   "display_name": "Python 3.8.10 64-bit",
   "language": "python",
   "name": "python3"
  },
  "language_info": {
   "codemirror_mode": {
    "name": "ipython",
    "version": 3
   },
   "file_extension": ".py",
   "mimetype": "text/x-python",
   "name": "python",
   "nbconvert_exporter": "python",
   "pygments_lexer": "ipython3",
   "version": "3.8.10"
  },
  "orig_nbformat": 4
 },
 "nbformat": 4,
 "nbformat_minor": 2
}
