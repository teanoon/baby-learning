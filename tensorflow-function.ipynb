{
 "cells": [
  {
   "cell_type": "code",
   "execution_count": 1,
   "metadata": {},
   "outputs": [],
   "source": [
    "import tensorflow as tf"
   ]
  },
  {
   "cell_type": "code",
   "execution_count": 2,
   "metadata": {},
   "outputs": [],
   "source": [
    "def get_MSE(y_true, y_pred):\n",
    "    print(\"i'm in\")\n",
    "    square_diff = tf.pow(y_true - y_pred, 2)\n",
    "    return tf.reduce_mean(square_diff)\n",
    "\n",
    "get_MSE_graph = tf.function(get_MSE)"
   ]
  },
  {
   "cell_type": "code",
   "execution_count": 4,
   "metadata": {},
   "outputs": [
    {
     "name": "stdout",
     "output_type": "stream",
     "text": [
      "\n",
      "y_true: [2 2 8 6 2]\n",
      "y_pred: [8 3 6 6 4]\n",
      "y_pred2: [9, 7, 10, 10, 0]\n",
      "y_pred3: [6, 6, 8, 10, 8]\n",
      "\n",
      "i'm in\n",
      "eager: 9\n",
      "i'm in\n",
      "eager: 9\n",
      "graph: 9\n",
      "graph: 9\n",
      "passing the tensor won't re-trace\n",
      "graph: 21\n",
      "passing the python arguments will re-trace\n",
      "i'm in\n",
      "graph: 19\n",
      "i'm in\n",
      "WARNING:tensorflow:5 out of the last 10 calls to <function get_MSE at 0x7fc738656e50> triggered tf.function retracing. Tracing is expensive and the excessive number of tracings could be due to (1) creating @tf.function repeatedly in a loop, (2) passing tensors with different shapes, (3) passing Python objects instead of tensors. For (1), please define your @tf.function outside of the loop. For (2), @tf.function has experimental_relax_shapes=True option that relaxes argument shapes that can avoid unnecessary retracing. For (3), please refer to https://www.tensorflow.org/guide/function#controlling_retracing and https://www.tensorflow.org/api_docs/python/tf/function for  more details.\n",
      "graph: 16\n"
     ]
    }
   ],
   "source": [
    "from random import randint\n",
    "\n",
    "y_true = tf.random.uniform([5], maxval=10, dtype=tf.int32)\n",
    "y_pred = tf.random.uniform([5], maxval=10, dtype=tf.int32)\n",
    "y_pred2 = [randint(0, 10) for i in range(5)]\n",
    "y_pred3 = [randint(0, 10) for i in range(5)]\n",
    "\n",
    "print(f\"\"\"\n",
    "y_true: {y_true}\n",
    "y_pred: {y_pred}\n",
    "y_pred2: {y_pred2}\n",
    "y_pred3: {y_pred3}\n",
    "\"\"\")\n",
    "print(f'eager: {get_MSE(y_true, y_pred)}')\n",
    "print(f'eager: {get_MSE(y_true, y_pred)}')\n",
    "print(f'graph: {get_MSE_graph(y_true, y_pred)}')\n",
    "print(f'graph: {get_MSE_graph(y_true, y_pred)}')\n",
    "\n",
    "print('passing the tensor won\\'t re-trace')\n",
    "y_pred = tf.random.uniform([5], maxval=10, dtype=tf.int32)\n",
    "print(f'graph: {get_MSE_graph(y_true, y_pred)}')\n",
    "\n",
    "print('passing the python arguments will re-trace')\n",
    "print(f'graph: {get_MSE_graph(y_true, y_pred2)}')\n",
    "print(f'graph: {get_MSE_graph(y_true, y_pred3)}')"
   ]
  }
 ],
 "metadata": {
  "interpreter": {
   "hash": "949777d72b0d2535278d3dc13498b2535136f6dfe0678499012e853ee9abcab1"
  },
  "kernelspec": {
   "display_name": "Python 3.8.12 64-bit",
   "language": "python",
   "name": "python3"
  },
  "language_info": {
   "codemirror_mode": {
    "name": "ipython",
    "version": 3
   },
   "file_extension": ".py",
   "mimetype": "text/x-python",
   "name": "python",
   "nbconvert_exporter": "python",
   "pygments_lexer": "ipython3",
   "version": "3.8.10"
  },
  "orig_nbformat": 4
 },
 "nbformat": 4,
 "nbformat_minor": 2
}
