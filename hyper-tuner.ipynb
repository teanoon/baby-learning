{
 "cells": [
  {
   "cell_type": "code",
   "execution_count": 1,
   "metadata": {},
   "outputs": [
    {
     "name": "stdout",
     "output_type": "stream",
     "text": [
      "\u001b[33mWARNING: You are using pip version 20.2.4; however, version 21.3.1 is available.\n",
      "You should consider upgrading via the '/usr/local/bin/python -m pip install --upgrade pip' command.\u001b[0m\n",
      "Note: you may need to restart the kernel to use updated packages.\n"
     ]
    }
   ],
   "source": [
    "%pip install -q keras-tuner"
   ]
  },
  {
   "cell_type": "code",
   "execution_count": 2,
   "metadata": {},
   "outputs": [],
   "source": [
    "from tensorflow.keras.datasets import mnist\n",
    "\n",
    "(train_images, train_labels), (test_images, test_labels) = mnist.load_data()\n",
    "\n",
    "train_images = train_images.astype('float32') / 255.\n",
    "test_images = test_images.astype('float32') / 255."
   ]
  },
  {
   "cell_type": "code",
   "execution_count": 4,
   "metadata": {},
   "outputs": [],
   "source": [
    "from tensorflow.keras.models import Sequential\n",
    "from tensorflow.keras.layers import Dense, Flatten\n",
    "from tensorflow.keras.optimizers import Adam\n",
    "from tensorflow.keras.losses import SparseCategoricalCrossentropy\n",
    "from keras_tuner import Hyperband, HyperParameters\n",
    "\n",
    "import pathlib\n",
    "import shutil\n",
    "import tempfile\n",
    "\n",
    "def model_builder(hp: HyperParameters):\n",
    "    hp_units = hp.Int('level-2-units', min_value=32, max_value=512, step=32)\n",
    "    model = Sequential([\n",
    "        Flatten(input_shape=(28, 28)),\n",
    "        Dense(hp_units, activation='relu'),\n",
    "        Dense(10)\n",
    "    ])\n",
    "\n",
    "    hp_learning_rate = hp.Choice('learning_rate', values=[1e-2, 1e-3, 1e-4])\n",
    "    model.compile(\n",
    "        optimizer=Adam(learning_rate=hp_learning_rate),\n",
    "        loss=SparseCategoricalCrossentropy(from_logits=True),\n",
    "        metrics=['accuracy'])\n",
    "\n",
    "    return model\n",
    "\n",
    "tuner_root = pathlib.Path(tempfile.mkdtemp() + 'tuner')\n",
    "shutil.rmtree(tuner_root, ignore_errors=True)\n",
    "tuner = Hyperband(\n",
    "    model_builder, objective='val_accuracy', max_epochs=10, factor=3, \n",
    "    directory=str(tuner_root), project_name='intro')"
   ]
  },
  {
   "cell_type": "code",
   "execution_count": 12,
   "metadata": {},
   "outputs": [
    {
     "name": "stdout",
     "output_type": "stream",
     "text": [
      "INFO:tensorflow:Oracle triggered exit\n",
      "\n",
      "    best hyperparams: \n",
      "    level 2 unit 416 \n",
      "    learning rate 0.001\n",
      "    \n"
     ]
    }
   ],
   "source": [
    "from tensorflow.keras.callbacks import EarlyStopping\n",
    "\n",
    "early_stopping = EarlyStopping(monitor='val_loss', patience=5)\n",
    "tuner.search(train_images, train_labels, epochs=50, validation_split=0.2, callbacks=[early_stopping])\n",
    "\n",
    "best_hyperparams = tuner.get_best_hyperparameters(num_trials=1)[0]\n",
    "print(f\"\"\"\n",
    "    best hyperparams: \n",
    "    level 2 unit {best_hyperparams.get(\"level-2-units\")} \n",
    "    learning rate {best_hyperparams.get(\"learning_rate\")}\n",
    "    \"\"\")"
   ]
  },
  {
   "cell_type": "code",
   "execution_count": 13,
   "metadata": {},
   "outputs": [
    {
     "name": "stdout",
     "output_type": "stream",
     "text": [
      "Epoch 1/50\n",
      "1500/1500 [==============================] - 2s 2ms/step - loss: 0.2330 - accuracy: 0.9314 - val_loss: 0.1365 - val_accuracy: 0.9583\n",
      "Epoch 2/50\n",
      "1500/1500 [==============================] - 2s 1ms/step - loss: 0.0920 - accuracy: 0.9719 - val_loss: 0.0932 - val_accuracy: 0.9719\n",
      "Epoch 3/50\n",
      "1500/1500 [==============================] - 2s 1ms/step - loss: 0.0586 - accuracy: 0.9820 - val_loss: 0.0824 - val_accuracy: 0.9737\n",
      "Epoch 4/50\n",
      "1500/1500 [==============================] - 2s 1ms/step - loss: 0.0415 - accuracy: 0.9870 - val_loss: 0.0841 - val_accuracy: 0.9748\n",
      "Epoch 5/50\n",
      "1500/1500 [==============================] - 2s 1ms/step - loss: 0.0288 - accuracy: 0.9914 - val_loss: 0.0874 - val_accuracy: 0.9761\n",
      "Epoch 6/50\n",
      "1500/1500 [==============================] - 2s 1ms/step - loss: 0.0220 - accuracy: 0.9928 - val_loss: 0.0807 - val_accuracy: 0.9778\n",
      "Epoch 7/50\n",
      "1500/1500 [==============================] - 2s 1ms/step - loss: 0.0170 - accuracy: 0.9943 - val_loss: 0.0818 - val_accuracy: 0.9790\n",
      "Epoch 8/50\n",
      "1500/1500 [==============================] - 2s 1ms/step - loss: 0.0150 - accuracy: 0.9947 - val_loss: 0.1009 - val_accuracy: 0.9753\n",
      "Epoch 9/50\n",
      "1500/1500 [==============================] - 2s 1ms/step - loss: 0.0122 - accuracy: 0.9960 - val_loss: 0.0778 - val_accuracy: 0.9803\n",
      "Epoch 10/50\n",
      "1500/1500 [==============================] - 2s 1ms/step - loss: 0.0114 - accuracy: 0.9964 - val_loss: 0.0915 - val_accuracy: 0.9792\n",
      "Epoch 11/50\n",
      "1500/1500 [==============================] - 2s 2ms/step - loss: 0.0085 - accuracy: 0.9974 - val_loss: 0.1013 - val_accuracy: 0.9780\n",
      "Epoch 12/50\n",
      "1500/1500 [==============================] - 2s 1ms/step - loss: 0.0102 - accuracy: 0.9966 - val_loss: 0.1034 - val_accuracy: 0.9787\n",
      "Epoch 13/50\n",
      "1500/1500 [==============================] - 2s 1ms/step - loss: 0.0068 - accuracy: 0.9978 - val_loss: 0.1089 - val_accuracy: 0.9778\n",
      "Epoch 14/50\n",
      "1500/1500 [==============================] - 2s 1ms/step - loss: 0.0072 - accuracy: 0.9975 - val_loss: 0.1203 - val_accuracy: 0.9763\n"
     ]
    },
    {
     "data": {
      "text/plain": [
       "<keras.callbacks.History at 0x7f55c0788d90>"
      ]
     },
     "execution_count": 13,
     "metadata": {},
     "output_type": "execute_result"
    }
   ],
   "source": [
    "model: Sequential = tuner.hypermodel.build(best_hyperparams)\n",
    "\n",
    "model.fit(train_images, train_labels, epochs=50, validation_split=0.2, callbacks=[early_stopping])"
   ]
  },
  {
   "cell_type": "code",
   "execution_count": 14,
   "metadata": {},
   "outputs": [
    {
     "name": "stdout",
     "output_type": "stream",
     "text": [
      "Epoch 1/50\n",
      "1500/1500 [==============================] - 2s 2ms/step - loss: 0.2287 - accuracy: 0.9327 - val_loss: 0.1250 - val_accuracy: 0.9647\n",
      "Epoch 2/50\n",
      "1500/1500 [==============================] - 2s 1ms/step - loss: 0.0915 - accuracy: 0.9723 - val_loss: 0.0957 - val_accuracy: 0.9724\n",
      "Epoch 3/50\n",
      "1500/1500 [==============================] - 2s 1ms/step - loss: 0.0582 - accuracy: 0.9824 - val_loss: 0.0899 - val_accuracy: 0.9736\n",
      "Epoch 4/50\n",
      "1500/1500 [==============================] - 2s 1ms/step - loss: 0.0407 - accuracy: 0.9873 - val_loss: 0.0788 - val_accuracy: 0.9763\n",
      "Epoch 5/50\n",
      "1500/1500 [==============================] - 2s 1ms/step - loss: 0.0299 - accuracy: 0.9906 - val_loss: 0.0866 - val_accuracy: 0.9737\n",
      "Epoch 6/50\n",
      "1500/1500 [==============================] - 2s 1ms/step - loss: 0.0224 - accuracy: 0.9931 - val_loss: 0.0852 - val_accuracy: 0.9761\n",
      "Epoch 7/50\n",
      "1500/1500 [==============================] - 2s 1ms/step - loss: 0.0180 - accuracy: 0.9942 - val_loss: 0.1064 - val_accuracy: 0.9732\n",
      "Epoch 8/50\n",
      "1500/1500 [==============================] - 2s 1ms/step - loss: 0.0144 - accuracy: 0.9954 - val_loss: 0.1056 - val_accuracy: 0.9739\n",
      "Epoch 9/50\n",
      "1500/1500 [==============================] - 2s 1ms/step - loss: 0.0142 - accuracy: 0.9953 - val_loss: 0.0975 - val_accuracy: 0.9774\n",
      "Epoch 10/50\n",
      "1500/1500 [==============================] - 2s 1ms/step - loss: 0.0085 - accuracy: 0.9972 - val_loss: 0.1139 - val_accuracy: 0.9755\n",
      "Epoch 11/50\n",
      "1500/1500 [==============================] - 2s 1ms/step - loss: 0.0095 - accuracy: 0.9968 - val_loss: 0.1119 - val_accuracy: 0.9736\n",
      "Epoch 12/50\n",
      "1500/1500 [==============================] - 2s 1ms/step - loss: 0.0062 - accuracy: 0.9978 - val_loss: 0.0948 - val_accuracy: 0.9799\n",
      "Epoch 13/50\n",
      "1500/1500 [==============================] - 2s 1ms/step - loss: 0.0103 - accuracy: 0.9968 - val_loss: 0.1058 - val_accuracy: 0.9783\n",
      "Epoch 14/50\n",
      "1500/1500 [==============================] - 2s 1ms/step - loss: 0.0068 - accuracy: 0.9977 - val_loss: 0.1173 - val_accuracy: 0.9762\n",
      "Epoch 15/50\n",
      "1500/1500 [==============================] - 2s 1ms/step - loss: 0.0074 - accuracy: 0.9976 - val_loss: 0.1191 - val_accuracy: 0.9786\n",
      "Epoch 16/50\n",
      "1500/1500 [==============================] - 2s 1ms/step - loss: 0.0052 - accuracy: 0.9984 - val_loss: 0.1235 - val_accuracy: 0.9763\n",
      "Epoch 17/50\n",
      "1500/1500 [==============================] - 2s 1ms/step - loss: 0.0073 - accuracy: 0.9974 - val_loss: 0.1085 - val_accuracy: 0.9805\n",
      "Epoch 18/50\n",
      "1500/1500 [==============================] - 2s 1ms/step - loss: 0.0068 - accuracy: 0.9978 - val_loss: 0.1126 - val_accuracy: 0.9803\n",
      "Epoch 19/50\n",
      "1500/1500 [==============================] - 2s 1ms/step - loss: 0.0035 - accuracy: 0.9989 - val_loss: 0.1165 - val_accuracy: 0.9793\n",
      "Epoch 20/50\n",
      "1500/1500 [==============================] - 2s 1ms/step - loss: 0.0037 - accuracy: 0.9989 - val_loss: 0.1570 - val_accuracy: 0.9739\n",
      "Epoch 21/50\n",
      "1500/1500 [==============================] - 2s 1ms/step - loss: 0.0082 - accuracy: 0.9972 - val_loss: 0.1234 - val_accuracy: 0.9788\n",
      "Epoch 22/50\n",
      "1500/1500 [==============================] - 2s 1ms/step - loss: 0.0035 - accuracy: 0.9987 - val_loss: 0.1465 - val_accuracy: 0.9787\n",
      "Epoch 23/50\n",
      "1500/1500 [==============================] - 2s 1ms/step - loss: 0.0048 - accuracy: 0.9985 - val_loss: 0.1403 - val_accuracy: 0.9781\n",
      "Epoch 24/50\n",
      "1500/1500 [==============================] - 2s 1ms/step - loss: 0.0052 - accuracy: 0.9984 - val_loss: 0.1569 - val_accuracy: 0.9770\n",
      "Epoch 25/50\n",
      "1500/1500 [==============================] - 2s 1ms/step - loss: 0.0050 - accuracy: 0.9986 - val_loss: 0.1499 - val_accuracy: 0.9773\n",
      "Epoch 26/50\n",
      "1500/1500 [==============================] - 2s 1ms/step - loss: 0.0052 - accuracy: 0.9984 - val_loss: 0.1448 - val_accuracy: 0.9783\n",
      "Epoch 27/50\n",
      "1500/1500 [==============================] - 2s 1ms/step - loss: 0.0052 - accuracy: 0.9983 - val_loss: 0.1659 - val_accuracy: 0.9766\n",
      "Epoch 28/50\n",
      "1500/1500 [==============================] - 2s 1ms/step - loss: 0.0025 - accuracy: 0.9992 - val_loss: 0.1365 - val_accuracy: 0.9810\n",
      "Epoch 29/50\n",
      "1500/1500 [==============================] - 2s 1ms/step - loss: 0.0077 - accuracy: 0.9979 - val_loss: 0.1715 - val_accuracy: 0.9758\n",
      "Epoch 30/50\n",
      "1500/1500 [==============================] - 2s 1ms/step - loss: 0.0052 - accuracy: 0.9984 - val_loss: 0.1610 - val_accuracy: 0.9780\n",
      "Epoch 31/50\n",
      "1500/1500 [==============================] - 2s 1ms/step - loss: 0.0038 - accuracy: 0.9986 - val_loss: 0.1600 - val_accuracy: 0.9791\n",
      "Epoch 32/50\n",
      "1500/1500 [==============================] - 2s 1ms/step - loss: 0.0051 - accuracy: 0.9983 - val_loss: 0.1584 - val_accuracy: 0.9802\n",
      "Epoch 33/50\n",
      "1500/1500 [==============================] - 2s 1ms/step - loss: 0.0025 - accuracy: 0.9991 - val_loss: 0.1576 - val_accuracy: 0.9801\n",
      "Epoch 34/50\n",
      "1500/1500 [==============================] - 2s 1ms/step - loss: 0.0066 - accuracy: 0.9981 - val_loss: 0.1821 - val_accuracy: 0.9793\n",
      "Epoch 35/50\n",
      "1500/1500 [==============================] - 2s 1ms/step - loss: 0.0036 - accuracy: 0.9988 - val_loss: 0.1890 - val_accuracy: 0.9782\n",
      "Epoch 36/50\n",
      "1500/1500 [==============================] - 2s 1ms/step - loss: 0.0033 - accuracy: 0.9990 - val_loss: 0.1710 - val_accuracy: 0.9787\n",
      "Epoch 37/50\n",
      "1500/1500 [==============================] - 2s 1ms/step - loss: 0.0015 - accuracy: 0.9996 - val_loss: 0.1749 - val_accuracy: 0.9797\n",
      "Epoch 38/50\n",
      "1500/1500 [==============================] - 2s 1ms/step - loss: 0.0047 - accuracy: 0.9987 - val_loss: 0.1978 - val_accuracy: 0.9791\n",
      "Epoch 39/50\n",
      "1500/1500 [==============================] - 2s 1ms/step - loss: 0.0031 - accuracy: 0.9992 - val_loss: 0.1587 - val_accuracy: 0.9817\n",
      "Epoch 40/50\n",
      "1500/1500 [==============================] - 2s 1ms/step - loss: 0.0015 - accuracy: 0.9994 - val_loss: 0.1809 - val_accuracy: 0.9802\n",
      "Epoch 41/50\n",
      "1500/1500 [==============================] - 2s 1ms/step - loss: 0.0055 - accuracy: 0.9983 - val_loss: 0.1957 - val_accuracy: 0.9777\n",
      "Epoch 42/50\n",
      "1500/1500 [==============================] - 2s 1ms/step - loss: 0.0033 - accuracy: 0.9990 - val_loss: 0.1917 - val_accuracy: 0.9795\n",
      "Epoch 43/50\n",
      "1500/1500 [==============================] - 2s 1ms/step - loss: 0.0042 - accuracy: 0.9988 - val_loss: 0.2060 - val_accuracy: 0.9769\n",
      "Epoch 44/50\n",
      "1500/1500 [==============================] - 2s 1ms/step - loss: 0.0023 - accuracy: 0.9993 - val_loss: 0.2053 - val_accuracy: 0.9788\n",
      "Epoch 45/50\n",
      "1500/1500 [==============================] - 2s 1ms/step - loss: 0.0043 - accuracy: 0.9986 - val_loss: 0.1981 - val_accuracy: 0.9804\n",
      "Epoch 46/50\n",
      "1500/1500 [==============================] - 2s 1ms/step - loss: 0.0017 - accuracy: 0.9996 - val_loss: 0.2158 - val_accuracy: 0.9795\n",
      "Epoch 47/50\n",
      "1500/1500 [==============================] - 2s 1ms/step - loss: 0.0049 - accuracy: 0.9984 - val_loss: 0.2072 - val_accuracy: 0.9777\n",
      "Epoch 48/50\n",
      "1500/1500 [==============================] - 2s 1ms/step - loss: 0.0025 - accuracy: 0.9991 - val_loss: 0.2202 - val_accuracy: 0.9804\n",
      "Epoch 49/50\n",
      "1500/1500 [==============================] - 2s 1ms/step - loss: 0.0045 - accuracy: 0.9988 - val_loss: 0.2150 - val_accuracy: 0.9785\n",
      "Epoch 50/50\n",
      "1500/1500 [==============================] - 2s 1ms/step - loss: 0.0028 - accuracy: 0.9993 - val_loss: 0.2146 - val_accuracy: 0.9799\n"
     ]
    },
    {
     "data": {
      "text/plain": [
       "<keras.callbacks.History at 0x7f55c06f1fd0>"
      ]
     },
     "execution_count": 14,
     "metadata": {},
     "output_type": "execute_result"
    }
   ],
   "source": [
    "model: Sequential = tuner.hypermodel.build(best_hyperparams)\n",
    "\n",
    "model.fit(train_images, train_labels, epochs=50, validation_split=0.2)"
   ]
  }
 ],
 "metadata": {
  "interpreter": {
   "hash": "949777d72b0d2535278d3dc13498b2535136f6dfe0678499012e853ee9abcab1"
  },
  "kernelspec": {
   "display_name": "Python 3.8.10 64-bit",
   "language": "python",
   "name": "python3"
  },
  "language_info": {
   "name": "python",
   "version": "3.8.10"
  },
  "orig_nbformat": 4
 },
 "nbformat": 4,
 "nbformat_minor": 2
}
