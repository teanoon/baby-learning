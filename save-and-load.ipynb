{
 "cells": [
  {
   "cell_type": "code",
   "execution_count": 1,
   "metadata": {},
   "outputs": [
    {
     "name": "stdout",
     "output_type": "stream",
     "text": [
      "\u001b[33mWARNING: You are using pip version 20.2.4; however, version 21.3.1 is available.\n",
      "You should consider upgrading via the '/usr/local/bin/python -m pip install --upgrade pip' command.\u001b[0m\n",
      "Note: you may need to restart the kernel to use updated packages.\n"
     ]
    }
   ],
   "source": [
    "%pip install -q pyyaml h5py"
   ]
  },
  {
   "cell_type": "code",
   "execution_count": 2,
   "metadata": {},
   "outputs": [],
   "source": [
    "from tensorflow.keras.datasets import mnist\n",
    "\n",
    "(train_images, train_labels), (test_images, test_labels) = mnist.load_data()\n",
    "\n",
    "train_images = train_images[:1000].reshape(-1, 28 * 28) / 255.\n",
    "train_labels = train_labels[:1000]\n",
    "\n",
    "test_images = test_images[:1000].reshape(-1, 28 * 28) / 255.\n",
    "test_labels = test_labels[:1000]"
   ]
  },
  {
   "cell_type": "code",
   "execution_count": 5,
   "metadata": {},
   "outputs": [],
   "source": [
    "from tensorflow.keras.models import Sequential\n",
    "from tensorflow.keras.layers import Dense, Dropout\n",
    "from tensorflow.keras.losses import SparseCategoricalCrossentropy\n",
    "from tensorflow.keras.metrics import SparseCategoricalAccuracy\n",
    "\n",
    "def create_model():\n",
    "    model = Sequential([\n",
    "        Dense(512, activation='relu', input_shape=(28 * 28,)),\n",
    "        Dropout(0.2),\n",
    "        Dense(10)\n",
    "    ])\n",
    "    model.compile(\n",
    "        optimizer='adam', \n",
    "        loss=SparseCategoricalCrossentropy(from_logits=True),\n",
    "        metrics=SparseCategoricalAccuracy())\n",
    "    return model"
   ]
  },
  {
   "cell_type": "code",
   "execution_count": 21,
   "metadata": {},
   "outputs": [
    {
     "name": "stdout",
     "output_type": "stream",
     "text": [
      "Epoch 1/10\n",
      " 1/32 [..............................] - ETA: 6s - loss: 2.4254 - sparse_categorical_accuracy: 0.0625\n",
      "Epoch 00001: saving model to /tmp/tmp3923cs_k/checkpoints/training_1/cp.ckpt\n",
      "32/32 [==============================] - 0s 5ms/step - loss: 1.1523 - sparse_categorical_accuracy: 0.6590 - val_loss: 0.7728 - val_sparse_categorical_accuracy: 0.7530\n",
      "Epoch 2/10\n",
      " 1/32 [..............................] - ETA: 0s - loss: 0.5649 - sparse_categorical_accuracy: 0.8125\n",
      "Epoch 00002: saving model to /tmp/tmp3923cs_k/checkpoints/training_1/cp.ckpt\n",
      "32/32 [==============================] - 0s 3ms/step - loss: 0.4379 - sparse_categorical_accuracy: 0.8790 - val_loss: 0.5265 - val_sparse_categorical_accuracy: 0.8310\n",
      "Epoch 3/10\n",
      " 1/32 [..............................] - ETA: 0s - loss: 0.3456 - sparse_categorical_accuracy: 0.9375\n",
      "Epoch 00003: saving model to /tmp/tmp3923cs_k/checkpoints/training_1/cp.ckpt\n",
      "32/32 [==============================] - 0s 3ms/step - loss: 0.2947 - sparse_categorical_accuracy: 0.9160 - val_loss: 0.4536 - val_sparse_categorical_accuracy: 0.8670\n",
      "Epoch 4/10\n",
      " 1/32 [..............................] - ETA: 0s - loss: 0.1611 - sparse_categorical_accuracy: 0.9688\n",
      "Epoch 00004: saving model to /tmp/tmp3923cs_k/checkpoints/training_1/cp.ckpt\n",
      "32/32 [==============================] - 0s 3ms/step - loss: 0.2154 - sparse_categorical_accuracy: 0.9510 - val_loss: 0.4664 - val_sparse_categorical_accuracy: 0.8510\n",
      "Epoch 5/10\n",
      " 1/32 [..............................] - ETA: 0s - loss: 0.0622 - sparse_categorical_accuracy: 1.0000\n",
      "Epoch 00005: saving model to /tmp/tmp3923cs_k/checkpoints/training_1/cp.ckpt\n",
      "32/32 [==============================] - 0s 3ms/step - loss: 0.1647 - sparse_categorical_accuracy: 0.9650 - val_loss: 0.4204 - val_sparse_categorical_accuracy: 0.8630\n",
      "Epoch 6/10\n",
      "28/32 [=========================>....] - ETA: 0s - loss: 0.1205 - sparse_categorical_accuracy: 0.9788\n",
      "Epoch 00006: saving model to /tmp/tmp3923cs_k/checkpoints/training_1/cp.ckpt\n",
      "32/32 [==============================] - 0s 4ms/step - loss: 0.1163 - sparse_categorical_accuracy: 0.9800 - val_loss: 0.4231 - val_sparse_categorical_accuracy: 0.8610\n",
      "Epoch 7/10\n",
      "30/32 [===========================>..] - ETA: 0s - loss: 0.0901 - sparse_categorical_accuracy: 0.9854\n",
      "Epoch 00007: saving model to /tmp/tmp3923cs_k/checkpoints/training_1/cp.ckpt\n",
      "32/32 [==============================] - 0s 3ms/step - loss: 0.0892 - sparse_categorical_accuracy: 0.9860 - val_loss: 0.4095 - val_sparse_categorical_accuracy: 0.8690\n",
      "Epoch 8/10\n",
      " 1/32 [..............................] - ETA: 0s - loss: 0.0467 - sparse_categorical_accuracy: 1.0000\n",
      "Epoch 00008: saving model to /tmp/tmp3923cs_k/checkpoints/training_1/cp.ckpt\n",
      "32/32 [==============================] - 0s 3ms/step - loss: 0.0634 - sparse_categorical_accuracy: 0.9950 - val_loss: 0.4056 - val_sparse_categorical_accuracy: 0.8670\n",
      "Epoch 9/10\n",
      " 1/32 [..............................] - ETA: 0s - loss: 0.0502 - sparse_categorical_accuracy: 1.0000\n",
      "Epoch 00009: saving model to /tmp/tmp3923cs_k/checkpoints/training_1/cp.ckpt\n",
      "32/32 [==============================] - 0s 3ms/step - loss: 0.0507 - sparse_categorical_accuracy: 0.9970 - val_loss: 0.4066 - val_sparse_categorical_accuracy: 0.8640\n",
      "Epoch 10/10\n",
      " 1/32 [..............................] - ETA: 0s - loss: 0.0279 - sparse_categorical_accuracy: 1.0000\n",
      "Epoch 00010: saving model to /tmp/tmp3923cs_k/checkpoints/training_1/cp.ckpt\n",
      "32/32 [==============================] - 0s 3ms/step - loss: 0.0374 - sparse_categorical_accuracy: 1.0000 - val_loss: 0.4078 - val_sparse_categorical_accuracy: 0.8620\n"
     ]
    },
    {
     "data": {
      "text/plain": [
       "<keras.callbacks.History at 0x7f66b4709e20>"
      ]
     },
     "execution_count": 21,
     "metadata": {},
     "output_type": "execute_result"
    }
   ],
   "source": [
    "from tensorflow.keras.callbacks import ModelCheckpoint\n",
    "\n",
    "import pathlib\n",
    "import tempfile\n",
    "\n",
    "checkpoint_root = pathlib.Path(tempfile.mkdtemp())/'checkpoints'\n",
    "checkpoint_path = checkpoint_root/'training_1/cp.ckpt'\n",
    "checkpoint_callback = ModelCheckpoint(checkpoint_path, save_weights_only=True, verbose=1)\n",
    "\n",
    "model = create_model()\n",
    "model.fit(\n",
    "    train_images, train_labels, epochs=10, \n",
    "    validation_data=(test_images, test_labels),\n",
    "    callbacks=[checkpoint_callback])"
   ]
  },
  {
   "cell_type": "code",
   "execution_count": 22,
   "metadata": {},
   "outputs": [
    {
     "name": "stdout",
     "output_type": "stream",
     "text": [
      "32/32 - 0s - loss: 2.2939 - sparse_categorical_accuracy: 0.1070 - 88ms/epoch - 3ms/step\n",
      "Untrained model: loss 2.29 accuracy 0.11\n",
      "32/32 - 0s - loss: 0.4078 - sparse_categorical_accuracy: 0.8620 - 37ms/epoch - 1ms/step\n",
      "Restored model: loss 0.41 accuracy 0.86\n"
     ]
    }
   ],
   "source": [
    "model = create_model()\n",
    "loss, accuracy = model.evaluate(test_images, test_labels, verbose=2)\n",
    "print(f'Untrained model: loss {loss:.2f} accuracy {accuracy:.2f}')\n",
    "\n",
    "model.load_weights(checkpoint_path)\n",
    "loss, accuracy = model.evaluate(test_images, test_labels, verbose=2)\n",
    "print(f'Restored model: loss {loss:.2f} accuracy {accuracy:.2f}')"
   ]
  },
  {
   "cell_type": "code",
   "execution_count": 23,
   "metadata": {},
   "outputs": [
    {
     "name": "stdout",
     "output_type": "stream",
     "text": [
      "\n",
      "Epoch 00005: saving model to /tmp/tmp3923cs_k/checkpoints/training_2/cp-0005.ckpt\n",
      "\n",
      "Epoch 00010: saving model to /tmp/tmp3923cs_k/checkpoints/training_2/cp-0010.ckpt\n",
      "\n",
      "Epoch 00015: saving model to /tmp/tmp3923cs_k/checkpoints/training_2/cp-0015.ckpt\n",
      "\n",
      "Epoch 00020: saving model to /tmp/tmp3923cs_k/checkpoints/training_2/cp-0020.ckpt\n",
      "\n",
      "Epoch 00025: saving model to /tmp/tmp3923cs_k/checkpoints/training_2/cp-0025.ckpt\n",
      "\n",
      "Epoch 00030: saving model to /tmp/tmp3923cs_k/checkpoints/training_2/cp-0030.ckpt\n",
      "\n",
      "Epoch 00035: saving model to /tmp/tmp3923cs_k/checkpoints/training_2/cp-0035.ckpt\n",
      "\n",
      "Epoch 00040: saving model to /tmp/tmp3923cs_k/checkpoints/training_2/cp-0040.ckpt\n",
      "\n",
      "Epoch 00045: saving model to /tmp/tmp3923cs_k/checkpoints/training_2/cp-0045.ckpt\n",
      "\n",
      "Epoch 00050: saving model to /tmp/tmp3923cs_k/checkpoints/training_2/cp-0050.ckpt\n"
     ]
    },
    {
     "data": {
      "text/plain": [
       "<keras.callbacks.History at 0x7f66b453ea90>"
      ]
     },
     "execution_count": 23,
     "metadata": {},
     "output_type": "execute_result"
    }
   ],
   "source": [
    "batch_size = 32\n",
    "\n",
    "checkpoint_path2 = str(checkpoint_root/'training_2/cp-{epoch:04d}.ckpt')\n",
    "checkpoint_callback = ModelCheckpoint(\n",
    "    filepath=checkpoint_path2, \n",
    "    save_weights_only=True, save_freq=5 * batch_size, \n",
    "    verbose=1)\n",
    "\n",
    "model = create_model()\n",
    "model.save_weights(checkpoint_path2.format(epoch=0))\n",
    "model.fit(\n",
    "    train_images, train_labels, epochs=50, batch_size=batch_size,\n",
    "    validation_data=(test_images, test_labels),\n",
    "    callbacks=[checkpoint_callback],\n",
    "    verbose=0)"
   ]
  },
  {
   "cell_type": "code",
   "execution_count": 24,
   "metadata": {},
   "outputs": [
    {
     "name": "stdout",
     "output_type": "stream",
     "text": [
      "32/32 - 0s - loss: 0.5020 - sparse_categorical_accuracy: 0.8730 - 87ms/epoch - 3ms/step\n",
      "Restored model: loss 0.50 accuracy 0.87\n"
     ]
    }
   ],
   "source": [
    "from tensorflow import train\n",
    "\n",
    "import os\n",
    "\n",
    "checkpoint_directory2 = os.path.dirname(checkpoint_path2)\n",
    "latest = train.latest_checkpoint(checkpoint_directory2)\n",
    "\n",
    "model = create_model()\n",
    "model.load_weights(latest)\n",
    "loss, accuracy = model.evaluate(test_images, test_labels, verbose=2)\n",
    "print(f'Restored model: loss {loss:.2f} accuracy {accuracy:.2f}')"
   ]
  },
  {
   "cell_type": "code",
   "execution_count": 29,
   "metadata": {},
   "outputs": [
    {
     "name": "stdout",
     "output_type": "stream",
     "text": [
      "INFO:tensorflow:Assets written to: /tmp/tmpjcl0omdg-models/training_2/assets\n",
      "32/32 - 0s - loss: 0.5020 - sparse_categorical_accuracy: 0.8730 - 89ms/epoch - 3ms/step\n",
      "Restored model: loss 0.50 accuracy 0.87\n"
     ]
    }
   ],
   "source": [
    "from tensorflow.keras.models import load_model\n",
    "\n",
    "saved_model_root = pathlib.Path(tempfile.mkdtemp() + '-models')\n",
    "saved_model_path = str(saved_model_root/'training_2')\n",
    "model.save(saved_model_path)\n",
    "\n",
    "model = load_model(saved_model_path)\n",
    "loss, accuracy = model.evaluate(test_images, test_labels, verbose=2)\n",
    "print(f'Restored model: loss {loss:.2f} accuracy {accuracy:.2f}')"
   ]
  },
  {
   "cell_type": "code",
   "execution_count": 30,
   "metadata": {},
   "outputs": [
    {
     "name": "stdout",
     "output_type": "stream",
     "text": [
      "32/32 - 0s - loss: 0.5020 - sparse_categorical_accuracy: 0.8730 - 88ms/epoch - 3ms/step\n",
      "Restored model: loss 0.50 accuracy 0.87\n"
     ]
    }
   ],
   "source": [
    "saved_model_path2 = str(saved_model_root/'training_3/model.h5')\n",
    "model.save(saved_model_path2)\n",
    "\n",
    "model = load_model(saved_model_path2)\n",
    "loss, accuracy = model.evaluate(test_images, test_labels, verbose=2)\n",
    "print(f'Restored model: loss {loss:.2f} accuracy {accuracy:.2f}')"
   ]
  }
 ],
 "metadata": {
  "interpreter": {
   "hash": "949777d72b0d2535278d3dc13498b2535136f6dfe0678499012e853ee9abcab1"
  },
  "kernelspec": {
   "display_name": "Python 3.8.10 64-bit",
   "language": "python",
   "name": "python3"
  },
  "language_info": {
   "codemirror_mode": {
    "name": "ipython",
    "version": 3
   },
   "file_extension": ".py",
   "mimetype": "text/x-python",
   "name": "python",
   "nbconvert_exporter": "python",
   "pygments_lexer": "ipython3",
   "version": "3.8.10"
  },
  "orig_nbformat": 4
 },
 "nbformat": 4,
 "nbformat_minor": 2
}
